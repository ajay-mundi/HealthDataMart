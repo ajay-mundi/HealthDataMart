{
 "cells": [
  {
   "cell_type": "code",
   "execution_count": 186,
   "metadata": {},
   "outputs": [],
   "source": [
    "from configparser import ConfigParser\n",
    "import psycopg2\n",
    "import numpy as np\n",
    "import pandas as pd\n",
    "from sklearn.model_selection import train_test_split\n",
    "from sklearn.preprocessing import OneHotEncoder\n",
    "from sklearn.preprocessing import MinMaxScaler\n",
    "import matplotlib.pyplot as plt\n",
    "from IPython.display import display\n",
    "from sklearn.ensemble import RandomForestClassifier\n",
    "from  sklearn import metrics\n",
    "from sklearn.metrics import classification_report, recall_score, precision_score, accuracy_score\n",
    "from imblearn.over_sampling import SMOTE\n"
   ]
  },
  {
   "cell_type": "markdown",
   "metadata": {},
   "source": [
    "Import Data"
   ]
  },
  {
   "cell_type": "code",
   "execution_count": 187,
   "metadata": {},
   "outputs": [],
   "source": [
    "x_train = pd.read_csv(\"x_train.csv\")#read input data\n",
    "y_train = pd.read_csv(\"y_train.csv\")#read input data\n",
    "x_test = pd.read_csv(\"x_test.csv\")#read input data\n",
    "y_test = pd.read_csv(\"y_test.csv\")#read input data"
   ]
  },
  {
   "cell_type": "code",
   "execution_count": 188,
   "metadata": {},
   "outputs": [],
   "source": [
    "x_train.drop(columns=x_train.columns[0], axis=1, inplace=True)\n",
    "y_train.drop(columns=y_train.columns[0], axis=1, inplace=True)\n",
    "x_test.drop(columns=x_test.columns[0], axis=1, inplace=True)\n",
    "y_test.drop(columns=y_test.columns[0], axis=1, inplace=True)"
   ]
  },
  {
   "cell_type": "code",
   "execution_count": 189,
   "metadata": {},
   "outputs": [],
   "source": [
    "RandomForest = RandomForestClassifier(n_estimators=1, max_depth=3)"
   ]
  },
  {
   "cell_type": "code",
   "execution_count": 190,
   "metadata": {},
   "outputs": [
    {
     "data": {
      "text/plain": [
       "RandomForestClassifier(max_depth=3, n_estimators=1)"
      ]
     },
     "execution_count": 190,
     "metadata": {},
     "output_type": "execute_result"
    }
   ],
   "source": [
    "RandomForest.fit(x_train, y_train.values.ravel())"
   ]
  },
  {
   "cell_type": "code",
   "execution_count": 191,
   "metadata": {},
   "outputs": [],
   "source": [
    "prediction = RandomForest.predict(x_test)"
   ]
  },
  {
   "cell_type": "code",
   "execution_count": 192,
   "metadata": {},
   "outputs": [
    {
     "name": "stdout",
     "output_type": "stream",
     "text": [
      "Accuracy: 0.9386973180076629\n",
      "Recall - Macro: 0.8027472527472528\n",
      "Precision - Macro: 0.9428571428571428\n",
      "Recall - Micro: 0.9386973180076629\n",
      "Precision - Micro: 0.9386973180076629\n"
     ]
    }
   ],
   "source": [
    "print(\"Accuracy:\", metrics.accuracy_score(y_test, prediction))\n",
    "print(\"Recall - Macro:\", metrics.recall_score(y_test, prediction, average=\"macro\"))\n",
    "print(\"Precision - Macro:\", metrics.precision_score(y_test, prediction, average=\"macro\"))\n",
    "print(\"Recall - Micro:\", metrics.recall_score(y_test, prediction, average=\"micro\"))\n",
    "print(\"Precision - Micro:\", metrics.precision_score(y_test, prediction, average=\"micro\"))"
   ]
  },
  {
   "cell_type": "code",
   "execution_count": 193,
   "metadata": {},
   "outputs": [
    {
     "name": "stdout",
     "output_type": "stream",
     "text": [
      "5    632\n",
      "1    262\n",
      "4    186\n",
      "3    119\n",
      "2     17\n",
      "Name: QOL_Measure, dtype: int64\n",
      "5    271\n",
      "1    112\n",
      "4     80\n",
      "3     52\n",
      "2      7\n",
      "Name: QOL_Measure, dtype: int64\n"
     ]
    }
   ],
   "source": [
    "print(y_train.QOL_Measure.value_counts())\n",
    "print(y_test.QOL_Measure.value_counts())"
   ]
  },
  {
   "cell_type": "code",
   "execution_count": 194,
   "metadata": {},
   "outputs": [],
   "source": [
    "sm = SMOTE(random_state=42)\n",
    "x_res, y_res = sm.fit_resample(x_train, y_train)"
   ]
  },
  {
   "cell_type": "code",
   "execution_count": 195,
   "metadata": {},
   "outputs": [
    {
     "name": "stdout",
     "output_type": "stream",
     "text": [
      "5    632\n",
      "3    632\n",
      "4    632\n",
      "2    632\n",
      "1    632\n",
      "Name: QOL_Measure, dtype: int64\n",
      "5    271\n",
      "1    112\n",
      "4     80\n",
      "3     52\n",
      "2      7\n",
      "Name: QOL_Measure, dtype: int64\n"
     ]
    }
   ],
   "source": [
    "print(y_res.QOL_Measure.value_counts())\n",
    "print(y_test.QOL_Measure.value_counts())"
   ]
  },
  {
   "cell_type": "code",
   "execution_count": 219,
   "metadata": {},
   "outputs": [
    {
     "data": {
      "text/plain": [
       "RandomForestClassifier(max_depth=3, n_estimators=3)"
      ]
     },
     "execution_count": 219,
     "metadata": {},
     "output_type": "execute_result"
    }
   ],
   "source": [
    "RandomForestSmote = RandomForestClassifier(n_estimators=3, max_depth=3)\n",
    "RandomForestSmote.fit(x_res, y_res.values.ravel())"
   ]
  },
  {
   "cell_type": "code",
   "execution_count": 220,
   "metadata": {},
   "outputs": [],
   "source": [
    "predictionSmote = RandomForestSmote.predict(x_test)"
   ]
  },
  {
   "cell_type": "code",
   "execution_count": 221,
   "metadata": {},
   "outputs": [
    {
     "name": "stdout",
     "output_type": "stream",
     "text": [
      "Accuracy: 0.9272030651340997\n",
      "Recall - Macro: 0.9098914277604315\n",
      "Precision - Macro: 0.7858571212154002\n",
      "Recall - Micro: 0.9272030651340997\n",
      "Precision - Micro: 0.9272030651340997\n"
     ]
    }
   ],
   "source": [
    "print(\"Accuracy:\", metrics.accuracy_score(y_test, predictionSmote))\n",
    "print(\"Recall - Macro:\", metrics.recall_score(y_test, predictionSmote, average=\"macro\"))\n",
    "print(\"Precision - Macro:\", metrics.precision_score(y_test, predictionSmote, average=\"macro\"))\n",
    "print(\"Recall - Micro:\", metrics.recall_score(y_test, predictionSmote, average=\"micro\"))\n",
    "print(\"Precision - Micro:\", metrics.precision_score(y_test, predictionSmote, average=\"micro\"))"
   ]
  },
  {
   "cell_type": "markdown",
   "metadata": {},
   "source": [
    "Import Reduced Data Set and Apply Smote"
   ]
  },
  {
   "cell_type": "code",
   "execution_count": 199,
   "metadata": {},
   "outputs": [
    {
     "data": {
      "text/html": [
       "<div>\n",
       "<style scoped>\n",
       "    .dataframe tbody tr th:only-of-type {\n",
       "        vertical-align: middle;\n",
       "    }\n",
       "\n",
       "    .dataframe tbody tr th {\n",
       "        vertical-align: top;\n",
       "    }\n",
       "\n",
       "    .dataframe thead th {\n",
       "        text-align: right;\n",
       "    }\n",
       "</style>\n",
       "<table border=\"1\" class=\"dataframe\">\n",
       "  <thead>\n",
       "    <tr style=\"text-align: right;\">\n",
       "      <th></th>\n",
       "      <th>QOL_Measure</th>\n",
       "    </tr>\n",
       "  </thead>\n",
       "  <tbody>\n",
       "    <tr>\n",
       "      <th>0</th>\n",
       "      <td>5</td>\n",
       "    </tr>\n",
       "    <tr>\n",
       "      <th>1</th>\n",
       "      <td>1</td>\n",
       "    </tr>\n",
       "    <tr>\n",
       "      <th>2</th>\n",
       "      <td>5</td>\n",
       "    </tr>\n",
       "    <tr>\n",
       "      <th>3</th>\n",
       "      <td>5</td>\n",
       "    </tr>\n",
       "    <tr>\n",
       "      <th>4</th>\n",
       "      <td>5</td>\n",
       "    </tr>\n",
       "  </tbody>\n",
       "</table>\n",
       "</div>"
      ],
      "text/plain": [
       "   QOL_Measure\n",
       "0            5\n",
       "1            1\n",
       "2            5\n",
       "3            5\n",
       "4            5"
      ]
     },
     "metadata": {},
     "output_type": "display_data"
    }
   ],
   "source": [
    "x_train_reduced = pd.read_csv(\"x_train_reduced.csv\")#read input data\n",
    "y_train_reduced = pd.read_csv(\"y_train_reduced.csv\")#read input data\n",
    "x_test_reduced = pd.read_csv(\"x_test_reduced.csv\")#read input data\n",
    "y_test_reduced = pd.read_csv(\"y_test_reduced.csv\")#read input data\n",
    "\n",
    "x_train_reduced.drop(columns=x_train_reduced.columns[0], axis=1, inplace=True)\n",
    "y_train_reduced.drop(columns=y_train_reduced.columns[0], axis=1, inplace=True)\n",
    "x_test_reduced.drop(columns=x_test_reduced.columns[0], axis=1, inplace=True)\n",
    "y_test_reduced.drop(columns=y_test_reduced.columns[0], axis=1, inplace=True)\n",
    "\n",
    "display(y_test.head())\n",
    "sm_reduced = SMOTE(random_state=42)\n",
    "x_res_reduced, y_res_reduced = sm_reduced.fit_resample(x_train_reduced, y_train_reduced)\n",
    "\n"
   ]
  },
  {
   "cell_type": "code",
   "execution_count": 200,
   "metadata": {},
   "outputs": [
    {
     "name": "stdout",
     "output_type": "stream",
     "text": [
      "5    632\n",
      "4    632\n",
      "1    632\n",
      "2    632\n",
      "3    632\n",
      "Name: QOL_Measure, dtype: int64\n",
      "5    271\n",
      "1    112\n",
      "4     80\n",
      "3     52\n",
      "2      7\n",
      "Name: QOL_Measure, dtype: int64\n"
     ]
    }
   ],
   "source": [
    "print(y_res_reduced.QOL_Measure.value_counts())\n",
    "print(y_test_reduced.QOL_Measure.value_counts())"
   ]
  },
  {
   "cell_type": "code",
   "execution_count": 216,
   "metadata": {},
   "outputs": [
    {
     "data": {
      "text/plain": [
       "RandomForestClassifier(max_depth=3, n_estimators=3)"
      ]
     },
     "execution_count": 216,
     "metadata": {},
     "output_type": "execute_result"
    }
   ],
   "source": [
    "RandomForestSmoteReduced = RandomForestClassifier(n_estimators=3, max_depth=3)\n",
    "RandomForestSmoteReduced.fit(x_res_reduced, y_res_reduced.values.ravel())"
   ]
  },
  {
   "cell_type": "code",
   "execution_count": 217,
   "metadata": {},
   "outputs": [],
   "source": [
    "predictionSmoteReduced = RandomForestSmoteReduced.predict(x_test_reduced)"
   ]
  },
  {
   "cell_type": "code",
   "execution_count": 218,
   "metadata": {},
   "outputs": [
    {
     "name": "stdout",
     "output_type": "stream",
     "text": [
      "Accuracy: 0.9176245210727969\n",
      "Recall - Macro: 0.9221678966789668\n",
      "Precision - Macro: 0.8181818181818181\n",
      "Recall - Micro: 0.9176245210727969\n",
      "Precision - Micro: 0.9176245210727969\n"
     ]
    },
    {
     "data": {
      "text/html": [
       "<div>\n",
       "<style scoped>\n",
       "    .dataframe tbody tr th:only-of-type {\n",
       "        vertical-align: middle;\n",
       "    }\n",
       "\n",
       "    .dataframe tbody tr th {\n",
       "        vertical-align: top;\n",
       "    }\n",
       "\n",
       "    .dataframe thead th {\n",
       "        text-align: right;\n",
       "    }\n",
       "</style>\n",
       "<table border=\"1\" class=\"dataframe\">\n",
       "  <thead>\n",
       "    <tr style=\"text-align: right;\">\n",
       "      <th></th>\n",
       "      <th>QOL_Measure</th>\n",
       "    </tr>\n",
       "  </thead>\n",
       "  <tbody>\n",
       "    <tr>\n",
       "      <th>0</th>\n",
       "      <td>4</td>\n",
       "    </tr>\n",
       "    <tr>\n",
       "      <th>1</th>\n",
       "      <td>5</td>\n",
       "    </tr>\n",
       "    <tr>\n",
       "      <th>2</th>\n",
       "      <td>5</td>\n",
       "    </tr>\n",
       "    <tr>\n",
       "      <th>3</th>\n",
       "      <td>5</td>\n",
       "    </tr>\n",
       "    <tr>\n",
       "      <th>4</th>\n",
       "      <td>5</td>\n",
       "    </tr>\n",
       "  </tbody>\n",
       "</table>\n",
       "</div>"
      ],
      "text/plain": [
       "   QOL_Measure\n",
       "0            4\n",
       "1            5\n",
       "2            5\n",
       "3            5\n",
       "4            5"
      ]
     },
     "metadata": {},
     "output_type": "display_data"
    },
    {
     "name": "stdout",
     "output_type": "stream",
     "text": [
      "[4 5 5 5 5 4 5 5 5 1 1 3 1 1 4 3 5 3 2 1 3 3 3 5 5 5 5 1 5 1 5 5 3 4 3 5 5\n",
      " 1 5 5 5 1 5 3 1 5 5 5 1 5 4 1 1 1 5 5 3 3 4 1 5 5 5 3 4 3 5 5 5 5 5 3 1 5\n",
      " 5 5 5 5 2 3 5 5 3 1 3 3 3 1 4 5 3 5 5 1 3 1 5 5 5 5 4 5 5 5 4 3 5 4 3 3 5\n",
      " 4 1 5 5 5 1 4 5 1 5 5 5 4 1 5 5 4 5 3 5 5 3 1 5 3 1 3 5 5 5 5 3 3 5 3 5 3\n",
      " 5 5 5 5 1 5 5 4 5 5 1 3 5 5 5 3 5 1 1 5 3 5 3 5 4 4 4 1 5 1 5 1 4 1 3 4 3\n",
      " 1 3 5 5 5 1 3 5 5 5 5 5 5 5 1 3 5 5 3 1 5 1 1 3 1 3 2 2 3 5 5 5 4 5 5 5 5\n",
      " 5 5 5 1 5 5 4 5 5 1 3 3 5 5 5 5 1 5 1 1 4 5 1 4 3 4 5 3 1 5 5 5 4 4 5 4 5\n",
      " 5 5 4 5 4 5 3 1 5 1 5 5 1 5 5 5 5 5 5 5 3 5 4 5 1 1 5 1 5 5 4 5 5 1 3 3 3\n",
      " 5 1 5 5 5 2 5 5 4 4 2 5 3 1 5 3 1 5 5 1 1 5 4 5 1 1 4 5 5 5 5 1 5 5 5 1 2\n",
      " 3 5 5 3 5 5 3 5 2 1 1 1 1 5 3 5 4 3 5 1 5 5 5 5 5 1 5 5 5 4 5 5 3 5 4 5 3\n",
      " 5 1 5 2 5 5 5 1 1 5 3 5 3 5 5 5 3 5 3 3 1 5 5 1 5 4 4 5 5 5 3 3 3 5 5 5 3\n",
      " 5 5 3 4 5 1 2 2 1 5 5 5 2 4 5 1 5 4 1 4 1 3 5 2 5 5 4 5 1 1 1 3 5 5 5 1 5\n",
      " 1 5 5 1 1 5 1 5 5 1 5 4 5 5 5 5 1 1 3 1 5 1 4 5 1 3 5 5 1 1 3 4 3 4 1 1 5\n",
      " 5 5 5 3 1 4 5 5 3 1 5 5 1 1 5 5 4 5 3 3 1 3 5 2 1 5 3 4 1 5 3 4 4 5 5 3 3\n",
      " 5 4 5 4]\n"
     ]
    }
   ],
   "source": [
    "print(\"Accuracy:\", metrics.accuracy_score(y_test_reduced, predictionSmoteReduced))\n",
    "print(\"Recall - Macro:\", metrics.recall_score(y_test_reduced, predictionSmoteReduced, average=\"macro\"))\n",
    "print(\"Precision - Macro:\", metrics.precision_score(y_test_reduced, predictionSmoteReduced, average=\"macro\"))\n",
    "print(\"Recall - Micro:\", metrics.recall_score(y_test_reduced, predictionSmoteReduced, average=\"micro\"))\n",
    "print(\"Precision - Micro:\", metrics.precision_score(y_test_reduced, predictionSmoteReduced, average=\"micro\"))\n",
    "\n",
    "display(y_test_reduced.head())\n",
    "print(predictionSmoteReduced)"
   ]
  }
 ],
 "metadata": {
  "interpreter": {
   "hash": "80e4160372489fecbd775fbd24446e111a2a40cc60fb901013a1d683c4042b3f"
  },
  "kernelspec": {
   "display_name": "Python 3.8.12 ('csi4106')",
   "language": "python",
   "name": "python3"
  },
  "language_info": {
   "codemirror_mode": {
    "name": "ipython",
    "version": 3
   },
   "file_extension": ".py",
   "mimetype": "text/x-python",
   "name": "python",
   "nbconvert_exporter": "python",
   "pygments_lexer": "ipython3",
   "version": "3.8.12"
  },
  "orig_nbformat": 4
 },
 "nbformat": 4,
 "nbformat_minor": 2
}
