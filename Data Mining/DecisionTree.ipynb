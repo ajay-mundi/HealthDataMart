{
 "cells": [
  {
   "cell_type": "code",
   "execution_count": 181,
   "metadata": {},
   "outputs": [],
   "source": [
    "import pandas as pd\n",
    "from sklearn import tree\n",
    "# import pydotplus\n",
    "from sklearn.tree import DecisionTreeClassifier\n",
    "import matplotlib.pyplot as plt\n",
    "import matplotlib.image as pltimg\n",
    "from sklearn.metrics import precision_recall_curve\n",
    "from sklearn.metrics import plot_precision_recall_curve\n",
    "from sklearn.metrics import precision_score\n",
    "from sklearn.metrics import recall_score\n",
    "from sklearn import metrics\n",
    "from sklearn import preprocessing\n",
    "from sklearn.preprocessing import label_binarize\n",
    "from sklearn.metrics import accuracy_score\n",
    "import numpy as np\n",
    "import time\n",
    "from IPython.display import display\n",
    "from imblearn.over_sampling import SMOTE"
   ]
  },
  {
   "cell_type": "markdown",
   "metadata": {},
   "source": [
    "Import Data"
   ]
  },
  {
   "cell_type": "code",
   "execution_count": 182,
   "metadata": {},
   "outputs": [],
   "source": [
    "x_train = pd.read_csv(\"x_train.csv\")#read input data\n",
    "y_train = pd.read_csv(\"y_train.csv\")#read input data\n",
    "x_test = pd.read_csv(\"x_test.csv\")#read input data\n",
    "y_test = pd.read_csv(\"y_test.csv\")#read input data"
   ]
  },
  {
   "cell_type": "code",
   "execution_count": 183,
   "metadata": {},
   "outputs": [],
   "source": [
    "x_train.drop(columns=x_train.columns[0], axis=1, inplace=True)\n",
    "y_train.drop(columns=y_train.columns[0], axis=1, inplace=True)\n",
    "x_test.drop(columns=x_test.columns[0], axis=1, inplace=True)\n",
    "y_test.drop(columns=y_test.columns[0], axis=1, inplace=True)"
   ]
  },
  {
   "cell_type": "markdown",
   "metadata": {},
   "source": [
    "Build Decision Tree"
   ]
  },
  {
   "cell_type": "code",
   "execution_count": 184,
   "metadata": {},
   "outputs": [
    {
     "name": "stdout",
     "output_type": "stream",
     "text": [
      "Model Ran in 0.0101 seconds\n"
     ]
    }
   ],
   "source": [
    "tic = time.perf_counter()\n",
    "decTree = tree.DecisionTreeClassifier(criterion='gini', max_depth=3)\n",
    "decTree = decTree.fit(x_train, y_train)\n",
    "toc = time.perf_counter()\n",
    "print(f\"Model Ran in {toc - tic:0.4f} seconds\")\n",
    "prediction = decTree.predict(x_test)"
   ]
  },
  {
   "cell_type": "markdown",
   "metadata": {},
   "source": [
    "Precision, Accuracy, Recall"
   ]
  },
  {
   "cell_type": "code",
   "execution_count": 190,
   "metadata": {},
   "outputs": [
    {
     "name": "stdout",
     "output_type": "stream",
     "text": [
      "Accuracy: 0.9865900383141762\n",
      "Recall - Macro: 0.8\n",
      "Precision - Macro: 0.7762711864406779\n",
      "Recall - Micro: 0.9865900383141762\n",
      "Precision - Micro: 0.9865900383141762\n",
      "|--- feature_34 <= 0.88\n",
      "|   |--- feature_34 <= 0.12\n",
      "|   |   |--- class: 1\n",
      "|   |--- feature_34 >  0.12\n",
      "|   |   |--- feature_34 <= 0.62\n",
      "|   |   |   |--- class: 3\n",
      "|   |   |--- feature_34 >  0.62\n",
      "|   |   |   |--- class: 4\n",
      "|--- feature_34 >  0.88\n",
      "|   |--- class: 5\n",
      "\n"
     ]
    },
    {
     "name": "stderr",
     "output_type": "stream",
     "text": [
      "C:\\Users\\ajaym\\miniconda3\\envs\\csi4106\\lib\\site-packages\\sklearn\\metrics\\_classification.py:1318: UndefinedMetricWarning: Precision is ill-defined and being set to 0.0 in labels with no predicted samples. Use `zero_division` parameter to control this behavior.\n",
      "  _warn_prf(average, modifier, msg_start, len(result))\n"
     ]
    }
   ],
   "source": [
    "y_test.head()\n",
    "print(\"Accuracy:\", metrics.accuracy_score(y_test, prediction))\n",
    "print(\"Recall - Macro:\", metrics.recall_score(y_test, prediction, average=\"macro\"))\n",
    "print(\"Precision - Macro:\", metrics.precision_score(y_test, prediction, average=\"macro\"))\n",
    "print(\"Recall - Micro:\", metrics.recall_score(y_test, prediction, average=\"micro\"))\n",
    "print(\"Precision - Micro:\", metrics.precision_score(y_test, prediction, average=\"micro\"))\n",
    "\n",
    "text_representation = tree.export_text(decTree)\n",
    "print(text_representation)\n"
   ]
  },
  {
   "cell_type": "markdown",
   "metadata": {},
   "source": [
    "With Reduced Features and SMOTE"
   ]
  },
  {
   "cell_type": "code",
   "execution_count": 187,
   "metadata": {},
   "outputs": [],
   "source": [
    "x_train_reduced = pd.read_csv(\"x_train_reduced.csv\")#read input data\n",
    "y_train_reduced = pd.read_csv(\"y_train_reduced.csv\")#read input data\n",
    "x_test_reduced = pd.read_csv(\"x_test_reduced.csv\")#read input data\n",
    "y_test_reduced = pd.read_csv(\"y_test_reduced.csv\")#read input data\n",
    "\n",
    "x_train_reduced.drop(columns=x_train_reduced.columns[0], axis=1, inplace=True)\n",
    "y_train_reduced.drop(columns=y_train_reduced.columns[0], axis=1, inplace=True)\n",
    "x_test_reduced.drop(columns=x_test_reduced.columns[0], axis=1, inplace=True)\n",
    "y_test_reduced.drop(columns=y_test_reduced.columns[0], axis=1, inplace=True)\n",
    "\n",
    "sm_reduced = SMOTE(random_state=42)\n",
    "x_res_reduced, y_res_reduced = sm_reduced.fit_resample(x_train_reduced, y_train_reduced)"
   ]
  },
  {
   "cell_type": "markdown",
   "metadata": {},
   "source": [
    "Building Model"
   ]
  },
  {
   "cell_type": "code",
   "execution_count": 188,
   "metadata": {},
   "outputs": [
    {
     "name": "stdout",
     "output_type": "stream",
     "text": [
      "Model Ran in 0.0137 seconds\n"
     ]
    }
   ],
   "source": [
    "tic = time.perf_counter()\n",
    "decTreeSmoteReduced = tree.DecisionTreeClassifier(criterion='gini', max_depth=3)\n",
    "decTreeSmoteReduced = decTreeSmoteReduced.fit(x_train_reduced, y_train_reduced)\n",
    "toc = time.perf_counter()\n",
    "print(f\"Model Ran in {toc - tic:0.4f} seconds\")\n",
    "prediction_reduced = decTreeSmoteReduced.predict(x_test_reduced)"
   ]
  },
  {
   "cell_type": "markdown",
   "metadata": {},
   "source": [
    "Precision Accuracy Recall"
   ]
  },
  {
   "cell_type": "code",
   "execution_count": 191,
   "metadata": {},
   "outputs": [
    {
     "name": "stdout",
     "output_type": "stream",
     "text": [
      "Accuracy: 0.9291187739463601\n",
      "Recall - Macro: 0.7567158671586716\n",
      "Precision - Macro: 0.7057958875505799\n",
      "Recall - Micro: 0.9291187739463601\n",
      "Precision - Micro: 0.9291187739463601\n",
      "|--- feature_22 <= 0.86\n",
      "|   |--- class: 5\n",
      "|--- feature_22 >  0.86\n",
      "|   |--- feature_23 <= 0.95\n",
      "|   |   |--- feature_18 <= 0.13\n",
      "|   |   |   |--- class: 4\n",
      "|   |   |--- feature_18 >  0.13\n",
      "|   |   |   |--- class: 3\n",
      "|   |--- feature_23 >  0.95\n",
      "|   |   |--- feature_5 <= 0.89\n",
      "|   |   |   |--- class: 1\n",
      "|   |   |--- feature_5 >  0.89\n",
      "|   |   |   |--- class: 1\n",
      "\n"
     ]
    },
    {
     "name": "stderr",
     "output_type": "stream",
     "text": [
      "C:\\Users\\ajaym\\miniconda3\\envs\\csi4106\\lib\\site-packages\\sklearn\\metrics\\_classification.py:1318: UndefinedMetricWarning: Precision is ill-defined and being set to 0.0 in labels with no predicted samples. Use `zero_division` parameter to control this behavior.\n",
      "  _warn_prf(average, modifier, msg_start, len(result))\n"
     ]
    }
   ],
   "source": [
    "print(\"Accuracy:\", metrics.accuracy_score(y_test_reduced, prediction_reduced))\n",
    "print(\"Recall - Macro:\", metrics.recall_score(y_test_reduced, prediction_reduced, average=\"macro\"))\n",
    "print(\"Precision - Macro:\", metrics.precision_score(y_test_reduced, prediction_reduced, average=\"macro\"))\n",
    "print(\"Recall - Micro:\", metrics.recall_score(y_test_reduced, prediction_reduced, average=\"micro\"))\n",
    "print(\"Precision - Micro:\", metrics.precision_score(y_test_reduced, prediction_reduced, average=\"micro\"))\n",
    "\n",
    "text_representation = tree.export_text(decTreeSmoteReduced)\n",
    "print(text_representation)"
   ]
  }
 ],
 "metadata": {
  "interpreter": {
   "hash": "80e4160372489fecbd775fbd24446e111a2a40cc60fb901013a1d683c4042b3f"
  },
  "kernelspec": {
   "display_name": "Python 3.8.12 ('csi4106')",
   "language": "python",
   "name": "python3"
  },
  "language_info": {
   "codemirror_mode": {
    "name": "ipython",
    "version": 3
   },
   "file_extension": ".py",
   "mimetype": "text/x-python",
   "name": "python",
   "nbconvert_exporter": "python",
   "pygments_lexer": "ipython3",
   "version": "3.8.12"
  },
  "orig_nbformat": 4
 },
 "nbformat": 4,
 "nbformat_minor": 2
}
