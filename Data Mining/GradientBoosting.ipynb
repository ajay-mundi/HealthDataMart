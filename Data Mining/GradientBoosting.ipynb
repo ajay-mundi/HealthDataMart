{
 "cells": [
  {
   "cell_type": "code",
   "execution_count": 82,
   "metadata": {},
   "outputs": [],
   "source": [
    "from configparser import ConfigParser\n",
    "import psycopg2\n",
    "import numpy as np\n",
    "import pandas as pd\n",
    "from sklearn.model_selection import train_test_split\n",
    "from sklearn.preprocessing import OneHotEncoder\n",
    "from sklearn.preprocessing import MinMaxScaler\n",
    "import matplotlib.pyplot as plt\n",
    "from IPython.display import display\n",
    "from sklearn.metrics import classification_report, recall_score, precision_score, accuracy_score\n",
    "from sklearn.ensemble import GradientBoostingClassifier\n",
    "from sklearn import metrics\n",
    "import time\n",
    "from imblearn.over_sampling import SMOTE"
   ]
  },
  {
   "cell_type": "markdown",
   "metadata": {},
   "source": [
    "Import Data"
   ]
  },
  {
   "cell_type": "code",
   "execution_count": 83,
   "metadata": {},
   "outputs": [],
   "source": [
    "x_train = pd.read_csv(\"x_train.csv\")#read input data\n",
    "y_train = pd.read_csv(\"y_train.csv\")#read input data\n",
    "x_test = pd.read_csv(\"x_test.csv\")#read input data\n",
    "y_test = pd.read_csv(\"y_test.csv\")#read input data"
   ]
  },
  {
   "cell_type": "code",
   "execution_count": 84,
   "metadata": {},
   "outputs": [
    {
     "data": {
      "text/html": [
       "<div>\n",
       "<style scoped>\n",
       "    .dataframe tbody tr th:only-of-type {\n",
       "        vertical-align: middle;\n",
       "    }\n",
       "\n",
       "    .dataframe tbody tr th {\n",
       "        vertical-align: top;\n",
       "    }\n",
       "\n",
       "    .dataframe thead th {\n",
       "        text-align: right;\n",
       "    }\n",
       "</style>\n",
       "<table border=\"1\" class=\"dataframe\">\n",
       "  <thead>\n",
       "    <tr style=\"text-align: right;\">\n",
       "      <th></th>\n",
       "      <th>QOL_Measure</th>\n",
       "    </tr>\n",
       "  </thead>\n",
       "  <tbody>\n",
       "    <tr>\n",
       "      <th>0</th>\n",
       "      <td>5</td>\n",
       "    </tr>\n",
       "    <tr>\n",
       "      <th>1</th>\n",
       "      <td>3</td>\n",
       "    </tr>\n",
       "    <tr>\n",
       "      <th>2</th>\n",
       "      <td>5</td>\n",
       "    </tr>\n",
       "    <tr>\n",
       "      <th>3</th>\n",
       "      <td>3</td>\n",
       "    </tr>\n",
       "    <tr>\n",
       "      <th>4</th>\n",
       "      <td>4</td>\n",
       "    </tr>\n",
       "  </tbody>\n",
       "</table>\n",
       "</div>"
      ],
      "text/plain": [
       "   QOL_Measure\n",
       "0            5\n",
       "1            3\n",
       "2            5\n",
       "3            3\n",
       "4            4"
      ]
     },
     "execution_count": 84,
     "metadata": {},
     "output_type": "execute_result"
    }
   ],
   "source": [
    "x_train.drop(columns=x_train.columns[0], axis=1, inplace=True)\n",
    "y_train.drop(columns=y_train.columns[0], axis=1, inplace=True)\n",
    "x_test.drop(columns=x_test.columns[0], axis=1, inplace=True)\n",
    "y_test.drop(columns=y_test.columns[0], axis=1, inplace=True)\n",
    "\n",
    "y_train.head()"
   ]
  },
  {
   "cell_type": "markdown",
   "metadata": {},
   "source": [
    "Implement Gradient Boosting Model"
   ]
  },
  {
   "cell_type": "code",
   "execution_count": 85,
   "metadata": {},
   "outputs": [
    {
     "name": "stdout",
     "output_type": "stream",
     "text": [
      "Model Ran in 5.8526 seconds\n"
     ]
    }
   ],
   "source": [
    "tic = time.perf_counter()\n",
    "gradientbooster = GradientBoostingClassifier(learning_rate=0.004, max_depth=3)\n",
    "gradientbooster.fit(x_train, y_train.values.ravel())\n",
    "toc = time.perf_counter()\n",
    "print(f\"Model Ran in {toc - tic:0.4f} seconds\")\n",
    "prediction = gradientbooster.predict(x_test)"
   ]
  },
  {
   "cell_type": "markdown",
   "metadata": {},
   "source": [
    "Prediction Accuracy Recall"
   ]
  },
  {
   "cell_type": "code",
   "execution_count": 86,
   "metadata": {},
   "outputs": [
    {
     "name": "stdout",
     "output_type": "stream",
     "text": [
      "Accuracy: 0.9731800766283525\n",
      "Recall - Macro: 0.8607142857142858\n",
      "Precision - Macro: 0.9901754385964912\n",
      "Recall - Micro: 0.9731800766283525\n",
      "Precision - Micro: 0.9731800766283525\n"
     ]
    }
   ],
   "source": [
    "print(\"Accuracy:\", metrics.accuracy_score(y_test, prediction))\n",
    "print(\"Recall - Macro:\", metrics.recall_score(y_test, prediction, average=\"macro\"))\n",
    "print(\"Precision - Macro:\", metrics.precision_score(y_test, prediction, average=\"macro\"))\n",
    "print(\"Recall - Micro:\", metrics.recall_score(y_test, prediction, average=\"micro\"))\n",
    "print(\"Precision - Micro:\", metrics.precision_score(y_test, prediction, average=\"micro\"))"
   ]
  },
  {
   "cell_type": "code",
   "execution_count": 87,
   "metadata": {},
   "outputs": [],
   "source": [
    "x_train_reduced = pd.read_csv(\"x_train_reduced.csv\")#read input data\n",
    "y_train_reduced = pd.read_csv(\"y_train_reduced.csv\")#read input data\n",
    "x_test_reduced = pd.read_csv(\"x_test_reduced.csv\")#read input data\n",
    "y_test_reduced = pd.read_csv(\"y_test_reduced.csv\")#read input data\n",
    "\n",
    "x_train_reduced.drop(columns=x_train_reduced.columns[0], axis=1, inplace=True)\n",
    "y_train_reduced.drop(columns=y_train_reduced.columns[0], axis=1, inplace=True)\n",
    "x_test_reduced.drop(columns=x_test_reduced.columns[0], axis=1, inplace=True)\n",
    "y_test_reduced.drop(columns=y_test_reduced.columns[0], axis=1, inplace=True)\n",
    "\n",
    "sm_reduced = SMOTE(random_state=42)\n",
    "x_res_reduced, y_res_reduced = sm_reduced.fit_resample(x_train_reduced, y_train_reduced)"
   ]
  },
  {
   "cell_type": "code",
   "execution_count": 88,
   "metadata": {},
   "outputs": [
    {
     "name": "stdout",
     "output_type": "stream",
     "text": [
      "Model Ran in 3.0547 seconds\n"
     ]
    }
   ],
   "source": [
    "tic = time.perf_counter()\n",
    "gradientbooster_reduced = GradientBoostingClassifier(learning_rate=0.004, max_depth=3)\n",
    "gradientbooster_reduced.fit(x_train_reduced, y_train_reduced.values.ravel())\n",
    "toc = time.perf_counter()\n",
    "print(f\"Model Ran in {toc - tic:0.4f} seconds\")\n",
    "prediction_reduced = gradientbooster_reduced.predict(x_test_reduced)"
   ]
  },
  {
   "cell_type": "code",
   "execution_count": 89,
   "metadata": {},
   "outputs": [
    {
     "name": "stdout",
     "output_type": "stream",
     "text": [
      "Accuracy: 0.9597701149425287\n",
      "Recall - Macro: 0.8337912087912087\n",
      "Precision - Macro: 0.9856164383561644\n",
      "Recall - Micro: 0.9597701149425287\n",
      "Precision - Micro: 0.9597701149425287\n"
     ]
    }
   ],
   "source": [
    "print(\"Accuracy:\", metrics.accuracy_score(y_test_reduced, prediction_reduced))\n",
    "print(\"Recall - Macro:\", metrics.recall_score(y_test_reduced, prediction_reduced, average=\"macro\"))\n",
    "print(\"Precision - Macro:\", metrics.precision_score(y_test_reduced, prediction_reduced, average=\"macro\"))\n",
    "print(\"Recall - Micro:\", metrics.recall_score(y_test_reduced, prediction_reduced, average=\"micro\"))\n",
    "print(\"Precision - Micro:\", metrics.precision_score(y_test_reduced, prediction_reduced, average=\"micro\"))"
   ]
  }
 ],
 "metadata": {
  "interpreter": {
   "hash": "80e4160372489fecbd775fbd24446e111a2a40cc60fb901013a1d683c4042b3f"
  },
  "kernelspec": {
   "display_name": "Python 3.8.12 ('csi4106')",
   "language": "python",
   "name": "python3"
  },
  "language_info": {
   "codemirror_mode": {
    "name": "ipython",
    "version": 3
   },
   "file_extension": ".py",
   "mimetype": "text/x-python",
   "name": "python",
   "nbconvert_exporter": "python",
   "pygments_lexer": "ipython3",
   "version": "3.8.12"
  },
  "orig_nbformat": 4
 },
 "nbformat": 4,
 "nbformat_minor": 2
}
