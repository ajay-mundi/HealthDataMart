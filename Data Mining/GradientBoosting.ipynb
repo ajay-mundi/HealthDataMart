{
 "cells": [
  {
   "cell_type": "code",
   "execution_count": 100,
   "metadata": {},
   "outputs": [],
   "source": [
    "from configparser import ConfigParser\n",
    "import psycopg2\n",
    "import numpy as np\n",
    "import pandas as pd\n",
    "from sklearn.model_selection import train_test_split\n",
    "from sklearn.preprocessing import OneHotEncoder\n",
    "from sklearn.preprocessing import MinMaxScaler\n",
    "import matplotlib.pyplot as plt\n",
    "from IPython.display import display\n",
    "from sklearn.metrics import classification_report, recall_score, precision_score, accuracy_score\n",
    "from sklearn.ensemble import GradientBoostingClassifier\n",
    "from sklearn import metrics\n",
    "import time\n",
    "from imblearn.over_sampling import SMOTE"
   ]
  },
  {
   "cell_type": "markdown",
   "metadata": {},
   "source": [
    "Import Data"
   ]
  },
  {
   "cell_type": "code",
   "execution_count": 101,
   "metadata": {},
   "outputs": [],
   "source": [
    "x_train = pd.read_csv(\"x_train.csv\")#read input data\n",
    "y_train = pd.read_csv(\"y_train.csv\")#read input data\n",
    "x_test = pd.read_csv(\"x_test.csv\")#read input data\n",
    "y_test = pd.read_csv(\"y_test.csv\")#read input data"
   ]
  },
  {
   "cell_type": "code",
   "execution_count": 102,
   "metadata": {},
   "outputs": [],
   "source": [
    "x_train.drop(columns=x_train.columns[0], axis=1, inplace=True)\n",
    "y_train.drop(columns=y_train.columns[0], axis=1, inplace=True)\n",
    "x_test.drop(columns=x_test.columns[0], axis=1, inplace=True)\n",
    "y_test.drop(columns=y_test.columns[0], axis=1, inplace=True)"
   ]
  },
  {
   "cell_type": "markdown",
   "metadata": {},
   "source": [
    "Implement Gradient Boosting Model"
   ]
  },
  {
   "cell_type": "code",
   "execution_count": 103,
   "metadata": {},
   "outputs": [
    {
     "name": "stdout",
     "output_type": "stream",
     "text": [
      "Model Ran in 1.8233 seconds\n"
     ]
    }
   ],
   "source": [
    "tic = time.perf_counter()\n",
    "gradientbooster = GradientBoostingClassifier(learning_rate=0.004, max_depth=3, max_features=10)\n",
    "gradientbooster.fit(x_train, y_train.values.ravel())\n",
    "toc = time.perf_counter()\n",
    "print(f\"Model Ran in {toc - tic:0.4f} seconds\")\n",
    "prediction = gradientbooster.predict(x_test)"
   ]
  },
  {
   "cell_type": "markdown",
   "metadata": {},
   "source": [
    "Prediction Accuracy Recall"
   ]
  },
  {
   "cell_type": "code",
   "execution_count": 104,
   "metadata": {},
   "outputs": [
    {
     "name": "stdout",
     "output_type": "stream",
     "text": [
      "Accuracy: 0.9616858237547893\n",
      "Recall - Macro: 0.8241758241758241\n",
      "Precision - Macro: 0.9862542955326461\n",
      "Recall - Micro: 0.9616858237547893\n",
      "Precision - Micro: 0.9616858237547893\n"
     ]
    }
   ],
   "source": [
    "print(\"Accuracy:\", metrics.accuracy_score(y_test, prediction))\n",
    "print(\"Recall - Macro:\", metrics.recall_score(y_test, prediction, average=\"macro\"))\n",
    "print(\"Precision - Macro:\", metrics.precision_score(y_test, prediction, average=\"macro\"))\n",
    "print(\"Recall - Micro:\", metrics.recall_score(y_test, prediction, average=\"micro\"))\n",
    "print(\"Precision - Micro:\", metrics.precision_score(y_test, prediction, average=\"micro\"))"
   ]
  },
  {
   "cell_type": "markdown",
   "metadata": {},
   "source": [
    "Import Data with Reduced Features and SMOTE"
   ]
  },
  {
   "cell_type": "code",
   "execution_count": 105,
   "metadata": {},
   "outputs": [],
   "source": [
    "x_train_reduced = pd.read_csv(\"x_train_reduced.csv\")#read input data\n",
    "y_train_reduced = pd.read_csv(\"y_train_reduced.csv\")#read input data\n",
    "x_test_reduced = pd.read_csv(\"x_test_reduced.csv\")#read input data\n",
    "y_test_reduced = pd.read_csv(\"y_test_reduced.csv\")#read input data\n",
    "\n",
    "x_train_reduced.drop(columns=x_train_reduced.columns[0], axis=1, inplace=True)\n",
    "y_train_reduced.drop(columns=y_train_reduced.columns[0], axis=1, inplace=True)\n",
    "x_test_reduced.drop(columns=x_test_reduced.columns[0], axis=1, inplace=True)\n",
    "y_test_reduced.drop(columns=y_test_reduced.columns[0], axis=1, inplace=True)\n",
    "\n",
    "sm_reduced = SMOTE(random_state=42)\n",
    "x_res_reduced, y_res_reduced = sm_reduced.fit_resample(x_train_reduced, y_train_reduced)"
   ]
  },
  {
   "cell_type": "markdown",
   "metadata": {},
   "source": [
    "Implement Model"
   ]
  },
  {
   "cell_type": "code",
   "execution_count": 110,
   "metadata": {},
   "outputs": [
    {
     "name": "stdout",
     "output_type": "stream",
     "text": [
      "Model Ran in 1.2001 seconds\n"
     ]
    }
   ],
   "source": [
    "tic = time.perf_counter()\n",
    "gradientbooster_reduced = GradientBoostingClassifier(learning_rate=0.004, max_depth=3, max_features=10)\n",
    "gradientbooster_reduced.fit(x_train_reduced, y_train_reduced.values.ravel())\n",
    "toc = time.perf_counter()\n",
    "print(f\"Model Ran in {toc - tic:0.4f} seconds\")\n",
    "prediction_reduced = gradientbooster_reduced.predict(x_test_reduced)"
   ]
  },
  {
   "cell_type": "markdown",
   "metadata": {},
   "source": [
    "Accuracy Precision Recall"
   ]
  },
  {
   "cell_type": "code",
   "execution_count": 107,
   "metadata": {},
   "outputs": [
    {
     "name": "stdout",
     "output_type": "stream",
     "text": [
      "Accuracy: 0.9559386973180076\n",
      "Recall - Macro: 0.8287912087912087\n",
      "Precision - Macro: 0.9843537414965986\n",
      "Recall - Micro: 0.9559386973180076\n",
      "Precision - Micro: 0.9559386973180076\n"
     ]
    }
   ],
   "source": [
    "print(\"Accuracy:\", metrics.accuracy_score(y_test_reduced, prediction_reduced))\n",
    "print(\"Recall - Macro:\", metrics.recall_score(y_test_reduced, prediction_reduced, average=\"macro\"))\n",
    "print(\"Precision - Macro:\", metrics.precision_score(y_test_reduced, prediction_reduced, average=\"macro\"))\n",
    "print(\"Recall - Micro:\", metrics.recall_score(y_test_reduced, prediction_reduced, average=\"micro\"))\n",
    "print(\"Precision - Micro:\", metrics.precision_score(y_test_reduced, prediction_reduced, average=\"micro\"))"
   ]
  }
 ],
 "metadata": {
  "interpreter": {
   "hash": "80e4160372489fecbd775fbd24446e111a2a40cc60fb901013a1d683c4042b3f"
  },
  "kernelspec": {
   "display_name": "Python 3.8.12 ('csi4106')",
   "language": "python",
   "name": "python3"
  },
  "language_info": {
   "codemirror_mode": {
    "name": "ipython",
    "version": 3
   },
   "file_extension": ".py",
   "mimetype": "text/x-python",
   "name": "python",
   "nbconvert_exporter": "python",
   "pygments_lexer": "ipython3",
   "version": "3.8.12"
  },
  "orig_nbformat": 4
 },
 "nbformat": 4,
 "nbformat_minor": 2
}
