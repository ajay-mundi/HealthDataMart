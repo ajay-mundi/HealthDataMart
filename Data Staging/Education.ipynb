{
 "cells": [
  {
   "cell_type": "markdown",
   "metadata": {},
   "source": [
    "## Import Libraries"
   ]
  },
  {
   "cell_type": "code",
   "execution_count": 7,
   "metadata": {},
   "outputs": [],
   "source": [
    "import pandas as pd"
   ]
  },
  {
   "cell_type": "markdown",
   "metadata": {},
   "source": [
    "## Read csv file to dataframe."
   ]
  },
  {
   "cell_type": "code",
   "execution_count": 8,
   "metadata": {},
   "outputs": [],
   "source": [
    "# Read data file.\n",
    "# Skip last 5 rows in data file as these are not part of data.\n",
    "df = pd.read_csv(\"Education_Data_Raw.csv\", \n",
    "                 skipfooter=5, engine='python')"
   ]
  },
  {
   "cell_type": "markdown",
   "metadata": {},
   "source": [
    "## Process Data"
   ]
  },
  {
   "cell_type": "code",
   "execution_count": 9,
   "metadata": {},
   "outputs": [],
   "source": [
    "# Rename column headers based on Year.\n",
    "df.columns = list(df.columns[:4]) + [\"Value\" + x.split()[0] for x in df.columns[4:]]\n",
    "df.columns\n",
    "\n",
    "# Convert appropriate columns to numeric data.\n",
    "yr_cols = df.columns[4:]\n",
    "for col in yr_cols:\n",
    "    df[col] = pd.to_numeric(df[col], errors='coerce')\n",
    "\n",
    "# Fill missing values with row average of year values.\n",
    "df = df.apply(lambda row: row.fillna(row[yr_cols].mean()), axis=1)\n",
    "df\n",
    "\n",
    "# Convert dataframe from wide to long format.\n",
    "df = pd.wide_to_long(df, [\"Value\"], i=[\"Country Name\", df.columns[0]], j=\"Year\")\n",
    "df.reset_index(inplace=True)\n",
    "\n",
    "# Reshape data from long to wide format.\n",
    "df = df.pivot(index=[\"Country Name\", \"Year\"], columns=\"Series Name\", values=\"Value\")\n",
    "df.reset_index(inplace=True)\n",
    "\n",
    "# Add 'Education_Key' column.\n",
    "df['Education_Key'] = range(0, len(df))\n",
    "\n",
    "# Rearrange columns in df.\n",
    "cols = df.columns\n",
    "cols = cols[[0, 1, 14, 5, 6, 8, 9, 7, 10, 12, 13, 11, 4, 2, 3]]\n",
    "df = df[cols]\n",
    "\n",
    "# Rename columns.\n",
    "cols_names = [\n",
    "    \"Country\",\n",
    "    \"Year\",\n",
    "    \"Education_Key\",\n",
    "    \"Public_Education_Spending\",\n",
    "    \"School_Enrollment_Primary_%Gross\",\n",
    "    \"School_Enrollment_Primary_Female_%Gross\",\n",
    "    \"School_Enrollment_Primary_Male_%Gross\",\n",
    "    \"School_Enrollment_Primary_%Net\",\n",
    "    \"School_Enrollment_Secondary_%Gross\",\n",
    "    \"School_Enrollment_Secondary_Female_%Gross\",\n",
    "    \"School_Enrollment_Secondary_Male_%Gross\",\n",
    "    \"School_Enrollment_Secondary_%Net\",\n",
    "    \"Primary_Completion_Rate\",\n",
    "    \"Primary_Completion_Rate_Female\",\n",
    "    \"Primary_Completion_Rate_Male\",\n",
    "]\n",
    "df.columns = cols_names"
   ]
  },
  {
   "cell_type": "markdown",
   "metadata": {},
   "source": [
    "## Write data to csv file."
   ]
  },
  {
   "cell_type": "code",
   "execution_count": 6,
   "metadata": {},
   "outputs": [],
   "source": [
    "df.to_csv('Education_Processed_Table.csv', index=False)"
   ]
  },
  {
   "cell_type": "code",
   "execution_count": null,
   "metadata": {},
   "outputs": [],
   "source": []
  }
 ],
 "metadata": {
  "kernelspec": {
   "display_name": "Python 3",
   "language": "python",
   "name": "python3"
  },
  "language_info": {
   "codemirror_mode": {
    "name": "ipython",
    "version": 3
   },
   "file_extension": ".py",
   "mimetype": "text/x-python",
   "name": "python",
   "nbconvert_exporter": "python",
   "pygments_lexer": "ipython3",
   "version": "3.7.4"
  }
 },
 "nbformat": 4,
 "nbformat_minor": 4
}
