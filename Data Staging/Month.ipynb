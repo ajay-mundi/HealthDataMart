{
 "cells": [
  {
   "cell_type": "markdown",
   "metadata": {},
   "source": [
    "Import Packages"
   ]
  },
  {
   "cell_type": "code",
   "execution_count": 8,
   "metadata": {},
   "outputs": [],
   "source": [
    "import pandas as pd\n",
    "import numpy as np\n",
    "import warnings\n",
    "\n",
    "from datetime import datetime, timedelta\n",
    "from IPython.display import display\n",
    "\n",
    "warnings.filterwarnings(\"ignore\")"
   ]
  },
  {
   "cell_type": "markdown",
   "metadata": {},
   "source": [
    "Generate Dataframe"
   ]
  },
  {
   "cell_type": "code",
   "execution_count": 9,
   "metadata": {},
   "outputs": [
    {
     "data": {
      "text/html": [
       "<div>\n",
       "<style scoped>\n",
       "    .dataframe tbody tr th:only-of-type {\n",
       "        vertical-align: middle;\n",
       "    }\n",
       "\n",
       "    .dataframe tbody tr th {\n",
       "        vertical-align: top;\n",
       "    }\n",
       "\n",
       "    .dataframe thead th {\n",
       "        text-align: right;\n",
       "    }\n",
       "</style>\n",
       "<table border=\"1\" class=\"dataframe\">\n",
       "  <thead>\n",
       "    <tr style=\"text-align: right;\">\n",
       "      <th></th>\n",
       "      <th>Month_Key</th>\n",
       "      <th>Name</th>\n",
       "      <th>Month_Num</th>\n",
       "      <th>Quarter</th>\n",
       "      <th>Year</th>\n",
       "      <th>Decade</th>\n",
       "    </tr>\n",
       "  </thead>\n",
       "  <tbody>\n",
       "    <tr>\n",
       "      <th>0</th>\n",
       "      <td>0</td>\n",
       "      <td>January</td>\n",
       "      <td>1</td>\n",
       "      <td>1</td>\n",
       "      <td>2005</td>\n",
       "      <td>20</td>\n",
       "    </tr>\n",
       "    <tr>\n",
       "      <th>1</th>\n",
       "      <td>1</td>\n",
       "      <td>February</td>\n",
       "      <td>2</td>\n",
       "      <td>1</td>\n",
       "      <td>2005</td>\n",
       "      <td>20</td>\n",
       "    </tr>\n",
       "    <tr>\n",
       "      <th>2</th>\n",
       "      <td>2</td>\n",
       "      <td>March</td>\n",
       "      <td>3</td>\n",
       "      <td>1</td>\n",
       "      <td>2005</td>\n",
       "      <td>20</td>\n",
       "    </tr>\n",
       "    <tr>\n",
       "      <th>3</th>\n",
       "      <td>3</td>\n",
       "      <td>April</td>\n",
       "      <td>4</td>\n",
       "      <td>2</td>\n",
       "      <td>2005</td>\n",
       "      <td>20</td>\n",
       "    </tr>\n",
       "    <tr>\n",
       "      <th>4</th>\n",
       "      <td>4</td>\n",
       "      <td>May</td>\n",
       "      <td>5</td>\n",
       "      <td>2</td>\n",
       "      <td>2005</td>\n",
       "      <td>20</td>\n",
       "    </tr>\n",
       "  </tbody>\n",
       "</table>\n",
       "</div>"
      ],
      "text/plain": [
       "  Month_Key      Name Month_Num Quarter  Year Decade\n",
       "0         0   January         1       1  2005     20\n",
       "1         1  February         2       1  2005     20\n",
       "2         2     March         3       1  2005     20\n",
       "3         3     April         4       2  2005     20\n",
       "4         4       May         5       2  2005     20"
      ]
     },
     "execution_count": 9,
     "metadata": {},
     "output_type": "execute_result"
    }
   ],
   "source": [
    "month_df = pd.DataFrame(columns=[\"Month_Key\",\"Name\", \"Month_Num\", \"Quarter\",\"Year\",\"Decade\"])\n",
    "\n",
    "months = [\"January\", \"February\", \"March\", \"April\", \"May\", \"June\", \"July\", \"August\", \"September\", \"October\", \"November\", \"December\"]\n",
    "\n",
    "month = 1;\n",
    "year = 2005;\n",
    "decade = 20;\n",
    "quarter = 1\n",
    "\n",
    "for i in range(12*16):\n",
    "\n",
    "    if month >12:\n",
    "        month = 1\n",
    "        year = year + 1\n",
    "\n",
    "    if year/10 == 201:\n",
    "        decade = 21\n",
    "\n",
    "    if year/10 == 202:\n",
    "        decade = 22\n",
    "\n",
    "    rough_quarter = month/4\n",
    "\n",
    "    if rough_quarter <=0.75:\n",
    "        quarter = 1\n",
    "    elif rough_quarter<=1.5:\n",
    "        quarter = 2\n",
    "    elif rough_quarter<=2.25:\n",
    "        quarter = 3\n",
    "    else:\n",
    "        quarter = 4\n",
    "\n",
    "    month_data = {}\n",
    "    month_data[\"Month_Key\"] = i\n",
    "    month_data[\"Name\"] = months[month-1]\n",
    "    month_data[\"Month_Num\"] = month\n",
    "    month_data[\"Quarter\"] = quarter\n",
    "    month_data[\"Year\"] = year\n",
    "    month_data[\"Decade\"] = decade\n",
    "    month=month+1\n",
    "  \n",
    "    month_df = month_df.append(pd.DataFrame([month_data]), ignore_index=True)\n",
    "\n",
    "\n",
    "month_df.head()\n"
   ]
  },
  {
   "cell_type": "markdown",
   "metadata": {},
   "source": [
    "Generate CSV"
   ]
  },
  {
   "cell_type": "code",
   "execution_count": 10,
   "metadata": {},
   "outputs": [],
   "source": [
    "month_df.to_csv(\"Month_Processed_Table.csv\", index = False, header = True)"
   ]
  },
  {
   "cell_type": "markdown",
   "metadata": {},
   "source": [
    "CSV For DB"
   ]
  },
  {
   "cell_type": "code",
   "execution_count": 11,
   "metadata": {},
   "outputs": [],
   "source": [
    "month_df.to_csv(\"Month_Processed_DB.csv\", index = False, header = True)"
   ]
  }
 ],
 "metadata": {
  "interpreter": {
   "hash": "80e4160372489fecbd775fbd24446e111a2a40cc60fb901013a1d683c4042b3f"
  },
  "kernelspec": {
   "display_name": "Python 3.8.12 ('csi4106')",
   "language": "python",
   "name": "python3"
  },
  "language_info": {
   "codemirror_mode": {
    "name": "ipython",
    "version": 3
   },
   "file_extension": ".py",
   "mimetype": "text/x-python",
   "name": "python",
   "nbconvert_exporter": "python",
   "pygments_lexer": "ipython3",
   "version": "3.8.12"
  },
  "orig_nbformat": 4
 },
 "nbformat": 4,
 "nbformat_minor": 2
}
